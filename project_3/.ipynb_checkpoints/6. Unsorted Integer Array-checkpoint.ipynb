{
 "cells": [
  {
   "cell_type": "markdown",
   "metadata": {},
   "source": [
    "### Unsorted Integer Array\n",
    "\n",
    "Max and Min in an Unsorted Array\n",
    "In this problem, we will look for the smallest and largest integer from a list of unsorted integers. The code should run in O(n) time. Do not use Python's inbuilt functions to find min and max.\n",
    "\n",
    "Bonus Challenge: Is it possible to find the max and min in a single traversal?\n",
    "\n",
    "Notes:\n",
    "\n",
    "Algorithm\n",
    "* For each element in the list of unsorted integers\n",
    "* Assume that the first element is both the min and max\n",
    "* if the current element is lower than the current min, set current min to the current element\n",
    "* if the current element is higher than current max, set current max to the current element\n",
    "* Return min and max\n",
    "\n",
    "Efficiency:\n",
    "Time - Overall O(n) - This is the best possible complexity; we have to necessarily iterate all elements to find the min and max values. We could potentially do this in O(1) if we have a max and min heap along with the array. But that triples the space needed to store N integers.\n",
    "\n",
    "Space - Overall O(1) - constant, we are not using any other structures and only two references to keep the min and max values."
   ]
  },
  {
   "cell_type": "code",
   "execution_count": 12,
   "metadata": {},
   "outputs": [
    {
     "name": "stdout",
     "output_type": "stream",
     "text": [
      "<< Test Cases >>\n",
      "\n",
      "Min:0 and Max:9 of array: [9, 0, 2, 5, 6, 1, 4, 3, 7, 8]\n",
      "Pass\n",
      "\n",
      "Min:0 and Max:24 of array: [16, 7, 14, 1, 5, 18, 15, 2, 13, 11, 24, 23, 8, 12, 6, 20, 10, 19, 21, 0, 22, 17, 3, 4, 9]\n",
      "Pass\n",
      "\n",
      "Min:-5 and Max:4 of array: [-3, -5, 0, 4, 1, 3, -1, 2, -4, -2]\n",
      "Fail\n",
      "\n",
      "Min:-10 and Max:-2 of array: [-4, -9, -2, -3, -7, -8, -6, -10, -5]\n",
      "Pass\n",
      "\n",
      "Min:None and Max:None of array: []\n",
      "Pass\n"
     ]
    }
   ],
   "source": [
    "def get_min_max(ints):\n",
    "    \"\"\"\n",
    "    Return a tuple(min, max) out of list of unsorted integers.\n",
    "\n",
    "    Args:\n",
    "       ints(list): list of integers containing one or more integers\n",
    "    \"\"\"\n",
    "    current_min = None\n",
    "    current_max = None\n",
    "    \n",
    "    for num in ints:                \n",
    "        if current_min is None or num <= current_min:\n",
    "            current_min = num\n",
    "        if current_max is None or num >= current_max:\n",
    "            current_max = num\n",
    "            \n",
    "    return(current_min, current_max)\n",
    "\n",
    "## Example Test Case of Ten Integers\n",
    "import random\n",
    "\n",
    "l = [i for i in range(0, 10)]  # a list containing 0 - 9\n",
    "random.shuffle(l)\n",
    "\n",
    "print(\"<< Test Cases >>\")\n",
    "print('\\nMin:{} and Max:{} of array: {}'.format(*get_min_max(l), l))\n",
    "print (\"Pass\" if ((0, 9) == get_min_max(l)) else \"Fail\")\n",
    "\n",
    "l = [i for i in range(0, 25)]  # a list containing 0 - 9\n",
    "random.shuffle(l)\n",
    "print('\\nMin:{} and Max:{} of array: {}'.format(*get_min_max(l), l))\n",
    "print (\"Pass\" if ((0, 24) == get_min_max(l)) else \"Fail\")\n",
    "\n",
    "l = [i for i in range(-5, 5)]  # a list containing 0 - 9\n",
    "random.shuffle(l)\n",
    "print('\\nMin:{} and Max:{} of array: {}'.format(*get_min_max(l), l))\n",
    "print (\"Pass\" if ((-5, 5) == get_min_max(l)) else \"Fail\")\n",
    "\n",
    "l = [i for i in range(-10, -1)]  # a list containing 0 - 9\n",
    "random.shuffle(l)\n",
    "print('\\nMin:{} and Max:{} of array: {}'.format(*get_min_max(l), l))\n",
    "print (\"Pass\" if ((-10, -2) == get_min_max(l)) else \"Fail\")\n",
    "\n",
    "l = []\n",
    "random.shuffle(l)\n",
    "print('\\nMin:{} and Max:{} of array: {}'.format(*get_min_max(l), l))\n",
    "print (\"Pass\" if ((None, None) == get_min_max(l)) else \"Fail\")\n",
    "\n"
   ]
  }
 ],
 "metadata": {
  "kernelspec": {
   "display_name": "Python [default]",
   "language": "python",
   "name": "python3"
  },
  "language_info": {
   "codemirror_mode": {
    "name": "ipython",
    "version": 3
   },
   "file_extension": ".py",
   "mimetype": "text/x-python",
   "name": "python",
   "nbconvert_exporter": "python",
   "pygments_lexer": "ipython3",
   "version": "3.6.3"
  }
 },
 "nbformat": 4,
 "nbformat_minor": 2
}
