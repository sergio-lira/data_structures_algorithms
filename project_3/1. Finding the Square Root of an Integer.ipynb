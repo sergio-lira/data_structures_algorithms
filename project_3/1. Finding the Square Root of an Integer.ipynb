{
 "cells": [
  {
   "cell_type": "markdown",
   "metadata": {},
   "source": [
    "#### Finding the Square Root of an Integer\n",
    "Find the square root of the integer without using any Python library. You have to find the floor value of the square root.\n",
    "\n",
    "For example, if the given number is 16, then the answer would be 4.\n",
    "\n",
    "If the given number is 27, the answer would be 5 because sqrt(5) = 5.196 whose floor value is 5.\n",
    "\n",
    "The expected time complexity is O(log(n))\n",
    "\n",
    "##### Notes\n",
    "I also tried to create my own 'binary' search solution that would recursively approach the square root by selecting a low and high guess. But for the final solution, I will use Newton's method of computing square roots, I remember it from my class on computational arithmetic.\n",
    "\n",
    "Algorithm:\n",
    "* Start with an initial guess\n",
    "* Verify if the guess is close to the real sqrt by calculating the difference between its power of 2.\n",
    "* If acceptable return the floor of the calculated guess\n",
    "* If not, calculate a new guess using Newton's method and recurse\n",
    "\n",
    "Efficiency:\n",
    "\n",
    "Time- O(logn) each recursive function will approach the number by calculating a more accurate guess. Each iteration approaches the real sqrt with approximately twice the precision.\n",
    "\n",
    "Space = O(logn) There will be close to logn recursive calls in the stack as the computation approaches the real sqrt\n"
   ]
  },
  {
   "cell_type": "code",
   "execution_count": 49,
   "metadata": {
    "scrolled": true
   },
   "outputs": [
    {
     "name": "stdout",
     "output_type": "stream",
     "text": [
      "<< Basic Test Cases >> \n",
      "Square root of 9: Pass\n",
      "Square root of 0: Pass\n",
      "Square root of 4: Pass\n",
      "Square root of 1: Pass\n",
      "Square root of 5: Pass\n",
      "\n",
      "<< Additional Test Cases >> \n",
      "Square root of -1: Pass\n",
      "Square root of 99999: Pass\n",
      "Square root of None: Pass\n"
     ]
    }
   ],
   "source": [
    "def sqrt(number):\n",
    "    \"\"\"\n",
    "    Calculate the floored square root of a number\n",
    "\n",
    "    Args:\n",
    "       number(int): Number to find the floored squared root\n",
    "    Returns:\n",
    "       int: Floored Square Root\n",
    "    \"\"\"    \n",
    "    if not is_valid_input(number):\n",
    "        return None\n",
    "    \n",
    "    return sqrt_recursive_sol(number/2, number)\n",
    "\n",
    "def is_valid_input(number):\n",
    "    if number == None:\n",
    "        return False\n",
    "    \n",
    "    if isinstance(number, int) or isinstance(number, float):\n",
    "        if number >= 0:\n",
    "            return True\n",
    "    \n",
    "    return False\n",
    "    \n",
    "def calculate_new_guess(guess, number):\n",
    "    return guess - ( (guess*guess - number) / (2 * guess))\n",
    "\n",
    "def is_acceptable(guess, number, error=0.01):\n",
    "    return abs(number - guess*guess) <= error \n",
    "\n",
    "def sqrt_recursive_sol(guess, number, error=0.01):\n",
    "    #Use Newton's method of computing square root\n",
    "    # https://en.wikipedia.org/wiki/Newton%27s_method#Square_root_of_a_number\n",
    "    # https://m.tau.ac.il/~tsirel/dump/Static/knowino.org/wiki/Newton's_method.html\n",
    "    #print(\"guess: {} number= {}\".format(guess, number))\n",
    "    if  is_acceptable(guess, number):\n",
    "        return guess//1\n",
    "    else:\n",
    "        return sqrt_recursive_sol(calculate_new_guess(guess,number),number)\n",
    "        \n",
    "print(\"<< Basic Test Cases >> \")\n",
    "print(\"Square root of 9: \"+ \"Pass\" if  (3 == sqrt(9)) else \"Fail\")\n",
    "print(\"Square root of 0: \"+ \"Pass\" if  (3 == sqrt(9)) else \"Fail\")\n",
    "print(\"Square root of 4: \"+ \"Pass\" if  (3 == sqrt(9)) else \"Fail\")\n",
    "print(\"Square root of 1: \"+ \"Pass\" if  (3 == sqrt(9)) else \"Fail\")\n",
    "print(\"Square root of 5: \"+ \"Pass\" if  (3 == sqrt(9)) else \"Fail\")\n",
    "print(\"\\n<< Additional Test Cases >> \")\n",
    "print(\"Square root of -1: \"+ \"Pass\" if  (None == sqrt(-1)) else \"Fail\")\n",
    "print(\"Square root of 99999: \"+ \"Pass\" if  (316 == sqrt(99999)) else \"Fail\")\n",
    "print(\"Square root of None: \"+ \"Pass\" if  (None == sqrt(None)) else \"Fail\")"
   ]
  }
 ],
 "metadata": {
  "kernelspec": {
   "display_name": "Python [default]",
   "language": "python",
   "name": "python3"
  },
  "language_info": {
   "codemirror_mode": {
    "name": "ipython",
    "version": 3
   },
   "file_extension": ".py",
   "mimetype": "text/x-python",
   "name": "python",
   "nbconvert_exporter": "python",
   "pygments_lexer": "ipython3",
   "version": "3.6.3"
  }
 },
 "nbformat": 4,
 "nbformat_minor": 2
}
