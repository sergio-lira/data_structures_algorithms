{
 "cells": [
  {
   "cell_type": "markdown",
   "metadata": {},
   "source": [
    "### Write a function that provides an efficient lookup of whether the user is in a group.\n",
    "\n",
    "#### Notes:\n",
    "The first proposal of an algorithm:\n",
    " * For each user in the group\n",
    " * Check for user membership in that group, if true return True\n",
    " * Else for each sub-group, iterate (or recurse)\n",
    "\n",
    "Given that sub-group could be a member of several other groups, we can potentially have a lot of repeated work. For example, if there exists a group C that is a subgroup of A and B, with the algorithm above, we would search it's users and sub-groups twice.\n",
    "\n",
    "* The First optimization is to ensure that we cache the search results and we don't 'visit' a group more than once. This cache also handles the potential issue of cyclical group memberships, and we won't recurse if we have seen this group before.\n",
    "\n",
    "* The Second optimization would also be to store if a user was not found in a previous group. This second cache, or perhaps a tuple value in the same cache as above, would prevent us from repeatedly searching for a user in a group that we have previously visited.\n",
    "\n",
    "* Third possible optimization would be to invert and flatter the hierarchy. To generate a cache mapping user to groups; if this is an operation that we perform regularly and needs to be optimized, it can be an option.\n",
    "\n",
    "For now, I'll implement the algorithm with the first optimization\n",
    "\n",
    "Efficiency:\n",
    "\n",
    "Time\n",
    " * Overall - O(n) * O(u) where n is the number of groups, and u is the number of users in each group.\n",
    " * For each group we perform a linear search to find if the user is in its list of users.\n",
    " * In the worst case we would have to visit every group to find a users or the user is not in not found.\n",
    "\n",
    "Space\n",
    "* Overall - O(n) n is the total number of groups in the visited cache\n",
    "* We could potentially visiter every group and never find the user.\n"
   ]
  },
  {
   "cell_type": "code",
   "execution_count": 19,
   "metadata": {},
   "outputs": [
    {
     "name": "stdout",
     "output_type": "stream",
     "text": [
      "<<< Test Case 1 >>>\n",
      "if the lvl2_user in group? False\n",
      "if the lvl3_user in group? True\n",
      "\n",
      "<<< Test Case 2 >>>\n",
      "Large scale randomized group, takes a few seconds.\n",
      "if the user_956 in group? True\n",
      "\n",
      "<<< Test Case 3 >>>\n",
      "Cyclic group membership\n",
      "if the lvl2_user in group? False\n",
      "if the lvl3_user in group? True\n"
     ]
    }
   ],
   "source": [
    "import random\n",
    "\n",
    "class Group(object):\n",
    "    def __init__(self, _name):\n",
    "        self.name = _name\n",
    "        self.groups = []\n",
    "        self.users = []\n",
    "\n",
    "    def add_group(self, group):\n",
    "        self.groups.append(group)\n",
    "\n",
    "    def add_user(self, user):\n",
    "        self.users.append(user)\n",
    "\n",
    "    def get_groups(self):\n",
    "        return self.groups\n",
    "\n",
    "    def get_users(self):\n",
    "        return self.users\n",
    "\n",
    "    def get_name(self):\n",
    "        return self.name\n",
    "    \n",
    "def is_user_in_group(user, group, cache=True):\n",
    "    \"\"\"\n",
    "    Return True if user is in the group, False otherwise.\n",
    "\n",
    "    Args:\n",
    "      user(str): user name/id\n",
    "      group(class:Group): group to check user membership against\n",
    "    \"\"\"\n",
    "    if cache:\n",
    "        visited = list()\n",
    "        return recursive_user_search(user, group, visited)\n",
    "    else:\n",
    "        return recursive_user_search_no_cache(user, group)\n",
    "\n",
    "def recursive_user_search(user, group, visited):\n",
    "    if user in group.get_users():\n",
    "        return True\n",
    "    \n",
    "    for group in group.get_groups():\n",
    "        \n",
    "        if group.get_name() not in visited:\n",
    "            visited.append(group.get_name())\n",
    "            return recursive_user_search(user, group, visited)\n",
    "            \n",
    "    return False\n",
    "\n",
    "def recursive_user_search_no_cache(user, group):\n",
    "    if user in group.get_users():\n",
    "        return True\n",
    "    \n",
    "    for group in group.get_groups():\n",
    "        return recursive_user_search_no_cache(user, group)\n",
    "            \n",
    "    return False\n",
    "\n",
    "print(\"<<< Test Case 1 >>>\")\n",
    "lvl0 = Group(\"lvl0\")\n",
    "lvl1 = Group(\"lvl1\")\n",
    "lvl3 = Group(\"lvl3\")\n",
    "\n",
    "lvl3_user = \"lvl3_user\"\n",
    "lvl3.add_user(lvl3_user)\n",
    "\n",
    "lvl1.add_group(lvl3)\n",
    "lvl0.add_group(lvl1)     \n",
    "      \n",
    "print(\"if the lvl2_user in group? {}\".format(is_user_in_group('lvl2_user', lvl0)))\n",
    "print(\"if the lvl3_user in group? {}\".format(is_user_in_group('lvl3_user', lvl0)))\n",
    "\n",
    "print(\"\\n<<< Test Case 2 >>>\")\n",
    "print(\"Large scale randomized group, takes a few seconds.\")\n",
    "\n",
    "root = Group('root')\n",
    "lvl_1 = [Group('A_{}'.format(g)) for g in range(0, 5) ]\n",
    "lvl_2 = [Group('B_{}'.format(g)) for g in range(0, 100) ]\n",
    "lvl_3 = [Group('C_{}'.format(g)) for g in range(0, 500) ]\n",
    "random.seed(5)\n",
    "\n",
    "user_limit = 1000\n",
    "third = user_limit//3\n",
    "users = ['user_{}'.format(u) for u in range(0, user_limit)]\n",
    "\n",
    "for group_A in lvl_1:    \n",
    "    for user in users[0:third]:\n",
    "        if random.random() <0.5:\n",
    "            group_A.add_user(user)\n",
    "    root.add_group(group_A)\n",
    "    \n",
    "for group_A in lvl_1:   \n",
    "    \n",
    "    for group_B in lvl_2:\n",
    "        for user in users[third:third*2]:\n",
    "            if random.random() <0.4:\n",
    "                group_B.add_user(user)\n",
    "                    \n",
    "        if random.random() < 0.4:\n",
    "            group_A.add_group(group_B)\n",
    "            \n",
    "for group_B in lvl_2:        \n",
    "        \n",
    "    for group_C in lvl_3:\n",
    "        for user in users[third*2:user_limit]:\n",
    "            if random.random() <0.3:\n",
    "                group_C.add_user(user)\n",
    "        \n",
    "        if random.random() < 0.3:\n",
    "            group_B.add_group(group_C)\n",
    "      \n",
    "print(\"if the user_956 in group? {}\".format(is_user_in_group('user_956', root)))\n",
    "\n",
    "print(\"\\n<<< Test Case 3 >>>\")\n",
    "print(\"Cyclic group membership\")\n",
    "\n",
    "lvl0 = Group(\"lvl0\")\n",
    "lvl1 = Group(\"lvl1\")\n",
    "lvl3 = Group(\"lvl3\")\n",
    "\n",
    "lvl3_user = \"lvl3_user\"\n",
    "lvl3.add_user(lvl3_user)\n",
    "\n",
    "lvl1.add_group(lvl3)\n",
    "lvl0.add_group(lvl1)\n",
    "lvl3.add_group(lvl0)\n",
    "      \n",
    "print(\"if the lvl2_user in group? {}\".format(is_user_in_group('lvl2_user', lvl0)))\n",
    "print(\"if the lvl3_user in group? {}\".format(is_user_in_group('lvl3_user', lvl0)))\n",
    "            "
   ]
  },
  {
   "cell_type": "code",
   "execution_count": 44,
   "metadata": {},
   "outputs": [
    {
     "name": "stdout",
     "output_type": "stream",
     "text": [
      "52.7 µs ± 1.04 µs per loop (mean ± std. dev. of 7 runs, 10000 loops each)\n"
     ]
    }
   ],
   "source": [
    "%timeit is_user_in_group('user_9560', root, cache=False)"
   ]
  },
  {
   "cell_type": "code",
   "execution_count": 45,
   "metadata": {},
   "outputs": [
    {
     "name": "stdout",
     "output_type": "stream",
     "text": [
      "54.9 µs ± 997 ns per loop (mean ± std. dev. of 7 runs, 10000 loops each)\n"
     ]
    }
   ],
   "source": [
    "%timeit is_user_in_group('user_9560', root, cache=True)"
   ]
  },
  {
   "cell_type": "markdown",
   "metadata": {},
   "source": [
    "I would really like to explore this in a more systematic and rigurus way but sadly I need to catch-up to the graduation deadline"
   ]
  }
 ],
 "metadata": {
  "kernelspec": {
   "display_name": "Python [default]",
   "language": "python",
   "name": "python3"
  },
  "language_info": {
   "codemirror_mode": {
    "name": "ipython",
    "version": 3
   },
   "file_extension": ".py",
   "mimetype": "text/x-python",
   "name": "python",
   "nbconvert_exporter": "python",
   "pygments_lexer": "ipython3",
   "version": "3.6.3"
  }
 },
 "nbformat": 4,
 "nbformat_minor": 2
}
