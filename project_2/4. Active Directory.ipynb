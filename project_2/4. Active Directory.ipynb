{
 "cells": [
  {
   "cell_type": "code",
   "execution_count": 39,
   "metadata": {},
   "outputs": [],
   "source": [
    "class Group(object):\n",
    "    def __init__(self, _name):\n",
    "        self.name = _name\n",
    "        self.groups = []\n",
    "        self.users = []\n",
    "\n",
    "    def add_group(self, group):\n",
    "        self.groups.append(group)\n",
    "\n",
    "    def add_user(self, user):\n",
    "        self.users.append(user)\n",
    "\n",
    "    def get_groups(self):\n",
    "        return self.groups\n",
    "\n",
    "    def get_users(self):\n",
    "        return self.users\n",
    "\n",
    "    def get_name(self):\n",
    "        return self.name\n",
    "\n",
    "\n",
    "parent = Group(\"parent\")\n",
    "child = Group(\"child\")\n",
    "sub_child = Group(\"subchild\")\n",
    "\n",
    "sub_child_user = \"sub_child_user\"\n",
    "sub_child.add_user(sub_child_user)\n",
    "\n",
    "child.add_group(sub_child)\n",
    "parent.add_group(child)"
   ]
  },
  {
   "cell_type": "markdown",
   "metadata": {},
   "source": [
    "### Write a function that provides an efficient look up of whether the user is in a group.\n",
    "\n",
    "#### Notes:\n",
    "First proposal of Algorithm:\n",
    " * For each user in the group\n",
    " * Check for user memebership in that group, if true return True\n",
    " * Else for each sub-group, iterate (or recurse)\n",
    " \n",
    "Given that sub-group could be a member of several other groups, we can potentially have a lot of repeated work. For example if there exist a group C that is a subgroup of A and B, with the algorithm above we would search it's users and sub-groups twice. \n",
    "\n",
    "* first optimzation is to ansure that we cache the search results and we don't 'visit' a group more than once.\n",
    "\n",
    "* Second possible optimization would be to flatten construct a cache of users -> groups, if this is an operation that we perform refularly and needs to be optimized it can be an option. \n",
    "\n",
    "For now I'll implement the first algorithm with the first optimization"
   ]
  },
  {
   "cell_type": "code",
   "execution_count": 40,
   "metadata": {},
   "outputs": [],
   "source": [
    "def is_user_in_group(user, group, cache=True):\n",
    "    \"\"\"\n",
    "    Return True if user is in the group, False otherwise.\n",
    "\n",
    "    Args:\n",
    "      user(str): user name/id\n",
    "      group(class:Group): group to check user membership against\n",
    "    \"\"\"\n",
    "    if cache:\n",
    "        visited = list()\n",
    "        return recursive_user_search(user, group, visited)\n",
    "    else:\n",
    "        return recursive_user_search_no_cache(user, group)\n",
    "\n",
    "def recursive_user_search(user, group, visited):\n",
    "    if user in group.get_users():\n",
    "        return True\n",
    "    \n",
    "    for group in group.get_groups():\n",
    "        \n",
    "        if group.get_name() not in visited:\n",
    "            visited.append(group.get_name())\n",
    "            return recursive_user_search(user, group, visited)\n",
    "            \n",
    "    return False\n",
    "\n",
    "def recursive_user_search_no_cache(user, group):\n",
    "    if user in group.get_users():\n",
    "        return True\n",
    "    \n",
    "    for group in group.get_groups():\n",
    "        return recursive_user_search_no_cache(user, group)\n",
    "            \n",
    "    return False\n",
    "\n",
    "            "
   ]
  },
  {
   "cell_type": "code",
   "execution_count": 41,
   "metadata": {},
   "outputs": [],
   "source": [
    "import random\n",
    "root = Group('root')\n",
    "lvl_1 = [Group('A_{}'.format(g)) for g in range(0, 100) ]\n",
    "lvl_2 = [Group('B_{}'.format(g)) for g in range(0, 1000) ]\n",
    "lvl_3 = [Group('C_{}'.format(g)) for g in range(0, 10000) ]\n",
    "random.seed(5)\n",
    "\n",
    "user_limit = 10000\n",
    "quartile = user_limit//4\n",
    "users = ['user_{}'.format(u) for u in range(0, user_limit)]\n",
    "\n",
    "for group in lvl_1:\n",
    "    user_indexes = [i for i in range(0, quartile)]\n",
    "    for user in user_indexes:\n",
    "        if random.random() <0.5:\n",
    "            group.add_user(users[user])\n",
    "    root.add_group(group)\n",
    "    \n",
    "for group_A in lvl_1:\n",
    "    user_indexes = [i for i in range(quartile, quartile*2)]\n",
    "    for user in user_indexes:\n",
    "        if random.random() <0.4:\n",
    "            group_A.add_user(users[user])\n",
    "        \n",
    "    for group_B in lvl_2:\n",
    "        if random.random() < 0.4:\n",
    "            group_A.add_group(group_B)\n",
    "            \n",
    "for group_B in lvl_2:\n",
    "    \n",
    "    user_indexes = [i for i in range(quartile*2, quartile*3)]\n",
    "    for user in user_indexes:\n",
    "        if random.random() <0.3:\n",
    "            group_B.add_user(users[user])\n",
    "        \n",
    "    for group_C in lvl_3:\n",
    "        if random.random() < 0.3:\n",
    "            group_B.add_group(group_C)\n",
    "            \n",
    "for grup_C in lvl_3:\n",
    "    user_indexes = [i for i in range(quartile*3, user_limit)]\n",
    "    for user in user_indexes:\n",
    "        if random.random() <0.2:\n",
    "            group_C.add_user(users[user])"
   ]
  },
  {
   "cell_type": "code",
   "execution_count": 44,
   "metadata": {},
   "outputs": [
    {
     "name": "stdout",
     "output_type": "stream",
     "text": [
      "52.7 µs ± 1.04 µs per loop (mean ± std. dev. of 7 runs, 10000 loops each)\n"
     ]
    }
   ],
   "source": [
    "%timeit is_user_in_group('user_9560', root, cache=False)"
   ]
  },
  {
   "cell_type": "code",
   "execution_count": 45,
   "metadata": {},
   "outputs": [
    {
     "name": "stdout",
     "output_type": "stream",
     "text": [
      "54.9 µs ± 997 ns per loop (mean ± std. dev. of 7 runs, 10000 loops each)\n"
     ]
    }
   ],
   "source": [
    "%timeit is_user_in_group('user_9560', root, cache=True)"
   ]
  },
  {
   "cell_type": "markdown",
   "metadata": {},
   "source": [
    "I would really like to explore this in a more systematic and rigurus way but sadly I need to catch-up to the graduation deadline"
   ]
  }
 ],
 "metadata": {
  "kernelspec": {
   "display_name": "Python [default]",
   "language": "python",
   "name": "python3"
  },
  "language_info": {
   "codemirror_mode": {
    "name": "ipython",
    "version": 3
   },
   "file_extension": ".py",
   "mimetype": "text/x-python",
   "name": "python",
   "nbconvert_exporter": "python",
   "pygments_lexer": "ipython3",
   "version": "3.6.3"
  }
 },
 "nbformat": 4,
 "nbformat_minor": 2
}
