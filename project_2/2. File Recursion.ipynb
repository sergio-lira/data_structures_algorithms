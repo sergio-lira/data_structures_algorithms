{
 "cells": [
  {
   "cell_type": "code",
   "execution_count": 5,
   "metadata": {},
   "outputs": [
    {
     "name": "stdout",
     "output_type": "stream",
     "text": [
      "['.ipynb_checkpoints', 'File Recursion.ipynb', 'LRU_cache.ipynb', 'testdir']\n",
      "True\n",
      "True\n"
     ]
    }
   ],
   "source": [
    "## Locally save and call this file ex.py ##\n",
    "\n",
    "# Code to demonstrate the use of some of the OS modules in python\n",
    "\n",
    "import os\n",
    "\n",
    "# Let us print the files in the directory in which you are running this script\n",
    "print (os.listdir(\".\"))\n",
    "\n",
    "# Let us check if this file is indeed a file!\n",
    "print (os.path.isfile(\"./File Recursion.ipynb\"))\n",
    "\n",
    "# Does the file end with .py?\n",
    "print (\"File Recursion.ipynb\".endswith(\".ipynb\"))"
   ]
  },
  {
   "cell_type": "code",
   "execution_count": 34,
   "metadata": {},
   "outputs": [],
   "source": [
    "\n",
    "def find_files(suffix, path):\n",
    "    \"\"\"\n",
    "    Find all files beneath path with file name suffix.\n",
    "\n",
    "    Note that a path may contain further subdirectories\n",
    "    and those subdirectories may also contain further subdirectories.\n",
    "\n",
    "    There are no limit to the depth of the subdirectories can be.\n",
    "\n",
    "    Args:\n",
    "      suffix(str): suffix if the file name to be found\n",
    "      path(str): path of the file system\n",
    "\n",
    "    Returns:\n",
    "       a list of paths\n",
    "    \"\"\"\n",
    "    result_set = list()\n",
    "    \n",
    "    recursive_search(suffix, path, result_set)\n",
    "                \n",
    "    return result_set\n",
    "\n",
    "\n",
    "\n",
    "def recursive_search(suffix, path, results):\n",
    "    if os.path.isfile(path):\n",
    "        if path.endswith(suffix):\n",
    "            results.append(path)\n",
    "        else:\n",
    "            return\n",
    "    else:\n",
    "        items = os.listdir(path)\n",
    "        for item in items:            \n",
    "                recursive_search(suffix, os.path.join(path, item), results)    \n"
   ]
  },
  {
   "cell_type": "code",
   "execution_count": 35,
   "metadata": {},
   "outputs": [
    {
     "data": {
      "text/plain": [
       "['.\\\\testdir\\\\subdir1\\\\a.h',\n",
       " '.\\\\testdir\\\\subdir3\\\\subsubdir1\\\\b.h',\n",
       " '.\\\\testdir\\\\subdir5\\\\a.h',\n",
       " '.\\\\testdir\\\\t1.h']"
      ]
     },
     "execution_count": 35,
     "metadata": {},
     "output_type": "execute_result"
    }
   ],
   "source": [
    "find_files(\".h\", \".\")"
   ]
  },
  {
   "cell_type": "code",
   "execution_count": 36,
   "metadata": {},
   "outputs": [
    {
     "data": {
      "text/plain": [
       "['.\\\\testdir\\\\subdir1\\\\a.c',\n",
       " '.\\\\testdir\\\\subdir3\\\\subsubdir1\\\\b.c',\n",
       " '.\\\\testdir\\\\subdir5\\\\a.c',\n",
       " '.\\\\testdir\\\\t1.c']"
      ]
     },
     "execution_count": 36,
     "metadata": {},
     "output_type": "execute_result"
    }
   ],
   "source": [
    "find_files(\".c\", \".\")"
   ]
  },
  {
   "cell_type": "code",
   "execution_count": 37,
   "metadata": {
    "scrolled": true
   },
   "outputs": [
    {
     "data": {
      "text/plain": [
       "[]"
      ]
     },
     "execution_count": 37,
     "metadata": {},
     "output_type": "execute_result"
    }
   ],
   "source": [
    "find_files(\".f\", \".\")"
   ]
  },
  {
   "cell_type": "code",
   "execution_count": 39,
   "metadata": {},
   "outputs": [
    {
     "data": {
      "text/plain": [
       "['.\\\\testdir\\\\t1.c']"
      ]
     },
     "execution_count": 39,
     "metadata": {},
     "output_type": "execute_result"
    }
   ],
   "source": [
    "find_files('t1.c', \".\")"
   ]
  }
 ],
 "metadata": {
  "kernelspec": {
   "display_name": "Python [default]",
   "language": "python",
   "name": "python3"
  },
  "language_info": {
   "codemirror_mode": {
    "name": "ipython",
    "version": 3
   },
   "file_extension": ".py",
   "mimetype": "text/x-python",
   "name": "python",
   "nbconvert_exporter": "python",
   "pygments_lexer": "ipython3",
   "version": "3.6.3"
  }
 },
 "nbformat": 4,
 "nbformat_minor": 2
}
